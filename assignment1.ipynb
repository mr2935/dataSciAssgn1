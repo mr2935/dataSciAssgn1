{
 "cells": [
  {
   "cell_type": "raw",
   "id": "3a667682-585f-4148-a735-62521adf05c5",
   "metadata": {},
   "source": [
    "1.The for loop is used when we already know the number of iterations, which means when we know how many times a statement has to be executed. That is why we have to specify the ending point in the for loop initialization.\n",
    "\n",
    "When we need to end the loop on a condition other than the number of times, we use a while loop. In this case, it is not necessary to know the condition beforehand.\n"
   ]
  },
  {
   "cell_type": "code",
   "execution_count": 5,
   "id": "26b45a94-506a-43d1-84cc-1ceadc870b79",
   "metadata": {},
   "outputs": [
    {
     "name": "stdin",
     "output_type": "stream",
     "text": [
      " 4\n"
     ]
    },
    {
     "name": "stdout",
     "output_type": "stream",
     "text": [
      "6\n"
     ]
    }
   ],
   "source": [
    "# Example for for loop\n",
    "sum=0\n",
    "n=int(input())\n",
    "for i in range(n):\n",
    "    sum=sum+i\n",
    "print(sum)"
   ]
  },
  {
   "cell_type": "code",
   "execution_count": 6,
   "id": "d4906ec0-61ba-4407-b0bc-aef6a5e31aee",
   "metadata": {},
   "outputs": [
    {
     "name": "stdout",
     "output_type": "stream",
     "text": [
      "1\n",
      "2\n",
      "3\n",
      "4\n",
      "5\n"
     ]
    }
   ],
   "source": [
    "# Example for while loop\n",
    "i = 1\n",
    "while i < 6:\n",
    "  print(i)\n",
    "  i += 1"
   ]
  },
  {
   "cell_type": "code",
   "execution_count": 8,
   "id": "822fed6b-6265-493c-b8fb-048cd3e8e4b3",
   "metadata": {},
   "outputs": [
    {
     "name": "stdout",
     "output_type": "stream",
     "text": [
      "The sum is 55\n"
     ]
    }
   ],
   "source": [
    "# Question 2\n",
    "# using while loop\n",
    "num = 10\n",
    "if num < 0:\n",
    "   print(\"Enter a positive number\")\n",
    "else:\n",
    "   sum = 0\n",
    "   # use while loop to iterate until zero\n",
    "   while(num > 0):\n",
    "       sum += num\n",
    "       num -= 1\n",
    "   print(\"The sum is\", sum)\n",
    "    \n",
    "    "
   ]
  },
  {
   "cell_type": "code",
   "execution_count": 9,
   "id": "5eb565e6-00a9-413e-8a19-786eb6a3b787",
   "metadata": {},
   "outputs": [
    {
     "name": "stdout",
     "output_type": "stream",
     "text": [
      "The sum is 55\n"
     ]
    }
   ],
   "source": [
    "# using for loop\n",
    "num=10\n",
    "if num<0:\n",
    "    print(\"Enter a positive number\")\n",
    "else:\n",
    "    sum=0\n",
    "    for i in range(num):\n",
    "        sum=sum+num\n",
    "        num-=1\n",
    "    print(\"The sum is\",sum)\n",
    "    \n"
   ]
  },
  {
   "cell_type": "code",
   "execution_count": 19,
   "id": "466a68ce-7cae-466d-b11f-b789d8858db1",
   "metadata": {},
   "outputs": [
    {
     "name": "stdin",
     "output_type": "stream",
     "text": [
      "Enter your unit:  310\n"
     ]
    },
    {
     "name": "stdout",
     "output_type": "stream",
     "text": [
      "2250\n"
     ]
    }
   ],
   "source": [
    "# Question 3\n",
    "unit = int(input(\"Enter your unit: \"))\n",
    "if unit < 100:\n",
    "    bill = unit * 4.50\n",
    "elif unit <= 200:\n",
    "    bill = 450 + ((unit - 100) * 6)\n",
    "elif unit <= 300:\n",
    "    bill = 450 + 600 + ((unit - 200) * 10)\n",
    "else:\n",
    "    bill = 450 + 600 + 1000+ ((unit - 300) * 20)\n",
    "print(bill)"
   ]
  },
  {
   "cell_type": "code",
   "execution_count": 23,
   "id": "2546d681-6103-4aba-b831-d240b28ca60f",
   "metadata": {},
   "outputs": [
    {
     "name": "stdout",
     "output_type": "stream",
     "text": [
      "[64, 125, 512, 1000, 1728, 3375, 4096, 8000, 13824, 15625, 21952, 27000, 32768, 42875, 46656, 64000, 85184, 91125, 110592, 125000, 140608, 166375, 175616, 216000, 262144, 274625, 314432, 343000, 373248, 421875, 438976, 512000, 592704, 614125, 681472, 729000, 778688, 857375, 884736]\n"
     ]
    }
   ],
   "source": [
    "# 4\n",
    "cubes=[]\n",
    "for i in range(1,100):\n",
    "    if i%4==0 or i%5==0:\n",
    "        cubes.append(i**3)\n",
    "print(cubes)"
   ]
  },
  {
   "cell_type": "code",
   "execution_count": 29,
   "id": "e45f1ad1-e96b-4c10-9f7a-697ec6c63d69",
   "metadata": {},
   "outputs": [
    {
     "name": "stdout",
     "output_type": "stream",
     "text": [
      "Total vowels are :12\n"
     ]
    }
   ],
   "source": [
    "# 5\n",
    "s=\"I want to become a data scientist\"\n",
    "cnt=0\n",
    "s=s.lower()\n",
    "for i in s:\n",
    "    if i=='a' or i=='e' or i=='i' or i=='o' or i=='u':\n",
    "        cnt=cnt+1\n",
    "if cnt==0:\n",
    "    print(\"No vowels Found\")\n",
    "else:\n",
    "    print('Total vowels are :' + str(cnt))"
   ]
  },
  {
   "cell_type": "code",
   "execution_count": null,
   "id": "8221260f-eff6-468e-bb80-dd14ab43fa36",
   "metadata": {},
   "outputs": [],
   "source": []
  }
 ],
 "metadata": {
  "kernelspec": {
   "display_name": "Python 3 (ipykernel)",
   "language": "python",
   "name": "python3"
  },
  "language_info": {
   "codemirror_mode": {
    "name": "ipython",
    "version": 3
   },
   "file_extension": ".py",
   "mimetype": "text/x-python",
   "name": "python",
   "nbconvert_exporter": "python",
   "pygments_lexer": "ipython3",
   "version": "3.10.8"
  }
 },
 "nbformat": 4,
 "nbformat_minor": 5
}
